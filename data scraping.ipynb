{
 "cells": [
  {
   "cell_type": "markdown",
   "id": "103139f2",
   "metadata": {},
   "source": [
    "<h1 style=\"color: red; text-align: center\">Data Project: Scrapping & Dashboarding</h1>\n",
    "<hr width: 5px>\n",
    "<h3>❖ Author:</h3>\n",
    "<p>TATI Mohammed</p>\n",
    "<p style=\"text-align: right;\"><b>28-JAN | <span style=\"color: green;\">2023</span></b></p>"
   ]
  },
  {
   "cell_type": "markdown",
   "id": "73d4c62f",
   "metadata": {},
   "source": [
    "<h2 style=\"color: green\">Importing libraries required</h2>"
   ]
  },
  {
   "cell_type": "code",
   "execution_count": 1,
   "id": "91c2a10d",
   "metadata": {},
   "outputs": [],
   "source": [
    "# Data manipilation\n",
    "import pandas as pd\n",
    "\n",
    "# Scrapping tool\n",
    "from bs4 import BeautifulSoup\n",
    "\n",
    "# To get the HTTP requests\n",
    "import requests\n",
    "\n",
    "# To make sure we are scrapping the right data\n",
    "import re "
   ]
  },
  {
   "cell_type": "markdown",
   "id": "1efeae74",
   "metadata": {},
   "source": [
    "<h2 style=\"color: green\">Data Source</h2>"
   ]
  },
  {
   "cell_type": "markdown",
   "id": "cb765a1f",
   "metadata": {},
   "source": [
    "- The reason that I did this project is to learn to scrap, then I came up with the idea to scrap all jobs which are related to the data field in Morocco, so we answer the questions that we got & at the same time learn some scrapping techniques.\n",
    "- I believe there will be a better way to scrap without these tons of lines of code :) .\n",
    "<img src=\"linkedin.PNG\" width=\"400\">"
   ]
  },
  {
   "cell_type": "code",
   "execution_count": 2,
   "id": "a776ceed",
   "metadata": {},
   "outputs": [],
   "source": [
    "# Jobs URL: These are links to pages that contains the jobs\n",
    "\n",
    "# Data Engineer\n",
    "DE1 = \"https://www.linkedin.com/jobs/search/?currentJobId=3444082376&geoId=102787409&keywords=data%20engineer\"\n",
    "DE2 = \"https://www.linkedin.com/jobs/search/?currentJobId=3428855292&geoId=102787409&keywords=data%20engineer&start=25\"\n",
    "DE3 = \"https://www.linkedin.com/jobs/search/?currentJobId=3322482019&geoId=102787409&keywords=data%20engineer&start=50\"\n",
    "DE4 = \"https://www.linkedin.com/jobs/search/?currentJobId=3443300330&geoId=102787409&keywords=data%20engineer&start=75\"\n",
    "DE5 = \"https://www.linkedin.com/jobs/search/?currentJobId=3444943993&geoId=102787409&keywords=data%20engineer&start=100\"\n",
    "DE6 = \"https://www.linkedin.com/jobs/search/?currentJobId=3420952357&geoId=102787409&keywords=data%20engineer&start=125\"\n",
    "DE7 = \"https://www.linkedin.com/jobs/search/?currentJobId=3409082767&geoId=102787409&keywords=data%20engineer&start=150\"\n",
    "DE8 = \"https://www.linkedin.com/jobs/search/?currentJobId=3443479656&geoId=102787409&keywords=data%20engineer&start=175\"\n",
    "DE9 = \"https://www.linkedin.com/jobs/search/?currentJobId=3443479587&geoId=102787409&keywords=data%20engineer&start=200\"\n",
    "DE10 = \"https://www.linkedin.com/jobs/search/?currentJobId=3432966354&geoId=102787409&keywords=data%20engineer&start=225\"\n",
    "DE11 = \"https://www.linkedin.com/jobs/search/?currentJobId=3443482760&geoId=102787409&keywords=data%20engineer&start=250\"\n",
    "DE12 = \"https://www.linkedin.com/jobs/search/?currentJobId=3443484211&geoId=102787409&keywords=data%20engineer&start=275\"\n",
    "DE13 = \"https://www.linkedin.com/jobs/search/?currentJobId=3443484002&geoId=102787409&keywords=data%20engineer&start=300\"\n",
    "DE14 = \"https://www.linkedin.com/jobs/search/?currentJobId=3442183013&geoId=102787409&keywords=data%20engineer&start=325\"\n",
    "DE15 = \"https://www.linkedin.com/jobs/search/?currentJobId=3410576493&geoId=102787409&keywords=data%20engineer&start=350\"\n",
    "DE16 = \"https://www.linkedin.com/jobs/search/?currentJobId=3440933718&geoId=102787409&keywords=data%20engineer&start=375\"\n",
    "DE17 = \"https://www.linkedin.com/jobs/search/?currentJobId=3393416534&geoId=102787409&keywords=data%20engineer&start=400\"\n",
    "DE18 = \"https://www.linkedin.com/jobs/search/?currentJobId=3406243757&geoId=102787409&keywords=data%20engineer&start=425\"\n",
    "DE19 = \"https://www.linkedin.com/jobs/search/?currentJobId=3434797565&geoId=102787409&keywords=data%20engineer&start=450\"\n",
    "DE20 = \"https://www.linkedin.com/jobs/search/?currentJobId=3181850282&geoId=102787409&keywords=data%20engineer&start=475\"\n",
    "DE21 = \"https://www.linkedin.com/jobs/search/?currentJobId=3438208029&geoId=102787409&keywords=data%20engineer&start=500\"\n",
    "DE22 = \"https://www.linkedin.com/jobs/search/?currentJobId=3438208029&geoId=102787409&keywords=data%20engineer&start=525\"\n",
    "\n",
    "# Data Science\n",
    "DS1 = \"https://www.linkedin.com/jobs/search/?currentJobId=3443481706&geoId=102787409&keywords=data%20science&location=Morocco&refresh=true\"\n",
    "DS2 = \"https://www.linkedin.com/jobs/search/?currentJobId=3443480923&geoId=102787409&keywords=data%20science&location=Morocco&refresh=true&start=25\"\n",
    "DS3 = \"https://www.linkedin.com/jobs/search/?currentJobId=3443484241&geoId=102787409&keywords=data%20science&location=Morocco&refresh=true&start=50\"\n",
    "DS4 = \"https://www.linkedin.com/jobs/search/?currentJobId=3443485053&geoId=102787409&keywords=data%20science&location=Morocco&refresh=true&start=75\"\n",
    "DS5 = \"https://www.linkedin.com/jobs/search/?currentJobId=3443484218&geoId=102787409&keywords=data%20science&location=Morocco&refresh=true&start=100\"\n",
    "DS6 = \"https://www.linkedin.com/jobs/search/?currentJobId=3443484211&geoId=102787409&keywords=data%20science&location=Morocco&refresh=true&start=125\"\n",
    "DS7 = \"https://www.linkedin.com/jobs/search/?currentJobId=3450063232&geoId=102787409&keywords=data%20science&location=Morocco&refresh=true&start=150\"\n",
    "DS8 = \"https://www.linkedin.com/jobs/search/?currentJobId=3442077694&geoId=102787409&keywords=data%20science&location=Morocco&refresh=true&start=175\"\n",
    "DS9 = \"https://www.linkedin.com/jobs/search/?currentJobId=3421438842&geoId=102787409&keywords=data%20science&location=Morocco&refresh=true&start=200\"\n",
    "DS10 = \"https://www.linkedin.com/jobs/search/?currentJobId=3444946706&geoId=102787409&keywords=data%20science&location=Morocco&refresh=true&start=225\"\n",
    "DS11 = \"https://www.linkedin.com/jobs/search/?currentJobId=3441751324&geoId=102787409&keywords=data%20science&location=Morocco&refresh=true&start=250\"\n",
    "DS12 = \"https://www.linkedin.com/jobs/search/?currentJobId=3401991083&geoId=102787409&keywords=data%20science&location=Morocco&refresh=true&start=275\"\n",
    "DS13 = \"https://www.linkedin.com/jobs/search/?currentJobId=3410446323&geoId=102787409&keywords=data%20science&location=Morocco&refresh=true&start=300\"\n",
    "DS14 = \"https://www.linkedin.com/jobs/search/?currentJobId=3410446323&geoId=102787409&keywords=data%20science&location=Morocco&refresh=true&start=325\"\n",
    "\n",
    "# Data Analyst\n",
    "DA1 = \"https://www.linkedin.com/jobs/search/?currentJobId=3443481706&geoId=102787409&keywords=data%20analysis&location=Morocco&refresh=true\"\n",
    "DA2 = \"https://www.linkedin.com/jobs/search/?currentJobId=3443484241&geoId=102787409&keywords=data%20analysis&location=Morocco&refresh=true&start=25\"\n",
    "DA3 = \"https://www.linkedin.com/jobs/search/?currentJobId=3443484218&geoId=102787409&keywords=data%20analysis&location=Morocco&refresh=true&start=50\"\n",
    "DA4 = \"https://www.linkedin.com/jobs/search/?currentJobId=3443484211&geoId=102787409&keywords=data%20analysis&location=Morocco&refresh=true&start=75\"\n",
    "DA5 = \"https://www.linkedin.com/jobs/search/?currentJobId=3443482614&geoId=102787409&keywords=data%20analysis&location=Morocco&refresh=true&start=100\"\n",
    "DA6 = \"https://www.linkedin.com/jobs/search/?currentJobId=3403451652&geoId=102787409&keywords=data%20analysis&location=Morocco&refresh=true&start=125\"\n",
    "DA7 = \"https://www.linkedin.com/jobs/search/?currentJobId=3440776707&geoId=102787409&keywords=data%20analysis&location=Morocco&refresh=true&start=150\"\n",
    "DA8 = \"https://www.linkedin.com/jobs/search/?currentJobId=3411973840&geoId=102787409&keywords=data%20analysis&location=Morocco&refresh=true&start=175\"\n",
    "DA9 = \"https://www.linkedin.com/jobs/search/?currentJobId=3450173928&geoId=102787409&keywords=data%20analysis&location=Morocco&refresh=true&start=200\"\n",
    "DA10 = \"https://www.linkedin.com/jobs/search/?currentJobId=3421571696&geoId=102787409&keywords=data%20analysis&location=Morocco&refresh=true&start=225\"\n",
    "DA11 = \"https://www.linkedin.com/jobs/search/?currentJobId=3406408739&geoId=102787409&keywords=data%20analysis&location=Morocco&refresh=true&start=250\"\n",
    "DA12 = \"https://www.linkedin.com/jobs/search/?currentJobId=3447416414&geoId=102787409&keywords=data%20analysis&location=Morocco&refresh=true&start=275\"\n",
    "DA13 = \"https://www.linkedin.com/jobs/search/?currentJobId=3417372074&geoId=102787409&keywords=data%20analysis&location=Morocco&refresh=true&start=300\"\n",
    "DA14 = \"https://www.linkedin.com/jobs/search/?currentJobId=3123988222&geoId=102787409&keywords=data%20analysis&location=Morocco&refresh=true&start=325\"\n",
    "DA15 = \"https://www.linkedin.com/jobs/search/?currentJobId=3423316170&geoId=102787409&keywords=data%20analysis&location=Morocco&refresh=true&start=350\"\n",
    "DA16 = \"https://www.linkedin.com/jobs/search/?currentJobId=3391327607&geoId=102787409&keywords=data%20analysis&location=Morocco&refresh=true&start=375\"\n",
    "DA17 = \"https://www.linkedin.com/jobs/search/?currentJobId=3442711545&geoId=102787409&keywords=data%20analysis&location=Morocco&refresh=true&start=400\"\n",
    "\n",
    "# List of pages\n",
    "DE_jobs = [DE1,DE2,DE3,DE4,DE5,DE6,DE7,DE8,DE9,DE10,DE11,DE12,DE13,DE14,DE15,DE16,DE17,DE18,DE19,DE20,DE21,DE22] \n",
    "DS_jobs = [DS1,DS2,DS3,DS4,DS5,DS6,DS7,DS8,DS9,DS10,DS11,DS12,DS13,DS14]\n",
    "DA_jobs = [DA1,DA2,DA3,DA4,DA5,DA6,DA7,DA8,DA9,DA10,DA11,DA12,DA13,DA14,DA15,DA16,DA17]"
   ]
  },
  {
   "cell_type": "markdown",
   "id": "1e64f906",
   "metadata": {},
   "source": [
    "<h2 style=\"color: green\">Scrapping phase</h2>\n",
    "<img src=\"html.PNG\" width=\"800\">"
   ]
  },
  {
   "cell_type": "code",
   "execution_count": 3,
   "id": "9a60bc8b",
   "metadata": {},
   "outputs": [],
   "source": [
    "def scraper(url_list):\n",
    "    # DataFrame (dict)\n",
    "    data = {\"id\": [], \"title\": [], \"time\": [], \"place\": [], \"company\": []}\n",
    "    i = 0\n",
    "    for url in url_list:\n",
    "    \n",
    "        # Fetch raw jobs HTML content\n",
    "        html_content = requests.get(url).text\n",
    "\n",
    "        # through the content using BeautifulSoup:\n",
    "        soup = BeautifulSoup(html_content, \"html.parser\")\n",
    "\n",
    "        # getting all Data jobs links in the page. Which are a href in a tags see the pic above :) \n",
    "        jobs = soup.find_all('a', href=True)\n",
    "        \n",
    "        for job in jobs:\n",
    "            job_url = job['href']\n",
    "            # Checking if we are scrapping the right data (jobs)\n",
    "            if re.match(r\"https://ma.linkedin.com/jobs/view/*\", job_url):\n",
    "                job_id = \"JIDFM\"+\"{:03d}\".format(i) # just to organize\n",
    "                data['id'].append(job_id)\n",
    "                # Fetch raw job HTML content\n",
    "                job_html = requests.get(job_url).text\n",
    "                soup1 = BeautifulSoup(job_html, \"html.parser\")\n",
    "                \n",
    "                # Job title\n",
    "                title = soup1.find('h1')\n",
    "                if title is not None:\n",
    "                    data['title'].append(title.text)\n",
    "                else:\n",
    "                    data['title'].append(None)\n",
    "            # As you can notice all the data that we want are a span tags. So, we will distinguish between them using the class\n",
    "                spans = soup1.find_all('span')\n",
    "                for span in spans:\n",
    "                    \n",
    "                    if span['class'] == ['posted-time-ago__text', 'topcard__flavor--metadata']:\n",
    "                        # Time of publication\n",
    "                        time = str(span.text).strip() # Deleting all spaces\n",
    "                        if time == '':\n",
    "                            time = None\n",
    "                        data['time'].append(time)\n",
    "                            \n",
    "                    if span['class'] == ['sub-nav-cta__meta-text']:\n",
    "                        # Job place\n",
    "                        place = str(span.text).strip() \n",
    "                        if place == '':\n",
    "                            place = None\n",
    "                        data['place'].append(place)\n",
    "                            \n",
    "                    if span['class'] == ['topcard__flavor']:\n",
    "                        # Company\n",
    "                        company = str(span.text).strip()\n",
    "                        if company == '':\n",
    "                            company = None\n",
    "                        data['company'].append(company)\n",
    "        \n",
    "                # Increament the id\n",
    "                i += 1\n",
    "    \n",
    "    return data"
   ]
  },
  {
   "cell_type": "code",
   "execution_count": 4,
   "id": "457158c1",
   "metadata": {},
   "outputs": [],
   "source": [
    "#data_DE = scraper(DE_jobs) # 24 min just for Data engineer search xD. I have a bad conx :)"
   ]
  },
  {
   "cell_type": "markdown",
   "id": "dff25c61",
   "metadata": {},
   "source": [
    "<h2 style=\"color: green\">Scrapping Example</h2>"
   ]
  },
  {
   "cell_type": "markdown",
   "id": "bd3aa3a3",
   "metadata": {},
   "source": [
    "+ The question here is how did we get the class name of each span. All what we had to do is to test on a job."
   ]
  },
  {
   "cell_type": "code",
   "execution_count": 5,
   "id": "90074e8c",
   "metadata": {},
   "outputs": [
    {
     "name": "stdout",
     "output_type": "stream",
     "text": [
      "['sr-only']\n",
      "LinkedIn\n",
      "----------------\n",
      "['sr-only']\n",
      "Expand search\n",
      "----------------\n",
      "['switcher-tabs__placeholder-text', 'm-auto']\n",
      "None\n",
      "----------------\n",
      "['typeahead-input__dropdown-text', 'font-sans', 'text-sm', 'font-bold', 'text-color-text']\n",
      "None\n",
      "----------------\n",
      "['typeahead-input__dropdown-text', 'font-sans', 'text-sm', 'font-bold', 'text-color-text']\n",
      "None\n",
      "----------------\n",
      "['sub-nav-cta__meta-text']\n",
      "Mechouar, Casablanca-Settat, Morocco\n",
      "----------------\n",
      "['challenge-dialog__title']\n",
      "Security verification\n",
      "----------------\n",
      "['topcard__flavor']\n",
      "Deloitte\n",
      "----------------\n",
      "['topcard__flavor', 'topcard__flavor--bullet']\n",
      "Mechouar, Casablanca-Settat, Morocco\n",
      "----------------\n",
      "['posted-time-ago__text', 'topcard__flavor--metadata']\n",
      "6 days ago\n",
      "----------------\n",
      "['num-applicants__caption', 'topcard__flavor--metadata', 'topcard__flavor--bullet']\n",
      "153 applicants\n",
      "----------------\n",
      "['challenge-dialog__title']\n",
      "Security verification\n",
      "----------------\n",
      "['email-input-page__body']\n",
      "Your job seeking activity is only visible to you.\n",
      "----------------\n",
      "['text-md', 'text-left', 'inline-block', 'w-[calc(100%-24px)]']\n",
      "None\n",
      "----------------\n",
      "['text-md', 'font-medium', 'block', 'my-1']\n",
      "None\n",
      "----------------\n",
      "['text-md', 'text-color-text']\n",
      "None\n",
      "----------------\n",
      "['text-md', 'font-medium', 'inline-block', 'my-1']\n",
      "None\n",
      "----------------\n",
      "['text-md', 'text-left', 'inline-block', 'w-[calc(100%-24px)]']\n",
      "None\n",
      "----------------\n",
      "['text-md', 'inline-block', 'ml-1']\n",
      "None\n",
      "----------------\n",
      "['text-sm', 'text-left', 'inline-block', 'w-[calc(100%-24px)]', 'opacity-60', 'pl-[30px]']\n",
      "None\n",
      "----------------\n",
      "['text-md', 'text-color-text', 'font-normal', 'inline-block']\n",
      "None\n",
      "----------------\n",
      "['text-sm', 'text-color-text', 'font-normal', 'inline-block', 'w-[calc(100%-24px)]', 'opacity-60']\n",
      "None\n",
      "----------------\n",
      "['text-sm', 'font-normal', 'text-color-text-secondary']\n",
      "None\n",
      "----------------\n",
      "['description__job-criteria-text', 'description__job-criteria-text--criteria']\n",
      "Associate\n",
      "----------------\n",
      "['description__job-criteria-text', 'description__job-criteria-text--criteria']\n",
      "Full-time\n",
      "----------------\n",
      "['description__job-criteria-text', 'description__job-criteria-text--criteria']\n",
      "Information Technology\n",
      "----------------\n",
      "['description__job-criteria-text', 'description__job-criteria-text--criteria']\n",
      "Business Consulting and Services\n",
      "----------------\n",
      "['sr-only']\n",
      "LinkedIn\n",
      "----------------\n",
      "['li-footer__copy-text', 'flex', 'items-center']\n",
      "© 2023\n",
      "----------------\n",
      "['language-selector__label-text', 'mr-0.5', 'break-words']\n",
      "Language\n",
      "----------------\n",
      "['create-alert-error-message__container']\n",
      "None\n",
      "----------------\n",
      "['create-alert-error-message__text']\n",
      "None\n",
      "----------------\n",
      "['create-alert-error-message__container']\n",
      "Sign in to create more\n",
      "----------------\n",
      "['create-alert-error-message__text']\n",
      "None\n",
      "----------------\n",
      "['break-word']\n",
      "None\n",
      "----------------\n",
      "['create-alert-sign-in-form__query-info']\n",
      "Data Analyst\n",
      "----------------\n",
      "['create-alert-sign-in-form__query-info']\n",
      "Mechouar, Casablanca-Settat, Morocco\n",
      "----------------\n"
     ]
    }
   ],
   "source": [
    "job_url = \"https://www.linkedin.com/jobs/view/3444078910/?alternateChannel=search&refId=nFVG8RCAop5J0TXmpzUM9Q%3D%3D&trackingId=s%2Be0gzixNfXCkYJbvCkZWA%3D%3D\"\n",
    "\n",
    "job_html = requests.get(job_url).text\n",
    "soup = BeautifulSoup(job_html, \"html.parser\")\n",
    "\n",
    "# title\n",
    "title = soup.find('h1').text\n",
    "\n",
    "# finding all span tags\n",
    "spans = soup.find_all('span')\n",
    "for span in spans:\n",
    "    print(span['class'])\n",
    "    s = str(span.text).strip()\n",
    "    if s == '':\n",
    "        s = \"None\"\n",
    "    print(s)\n",
    "    print(\"----------------\") # for good looking :)"
   ]
  },
  {
   "cell_type": "markdown",
   "id": "ea735b52",
   "metadata": {},
   "source": [
    "+ As the scrapping takes too much time we will do an example only with one page :)"
   ]
  },
  {
   "cell_type": "code",
   "execution_count": 6,
   "id": "6ac4883d",
   "metadata": {},
   "outputs": [],
   "source": [
    "# The parameter needed for the scraper function is a list of URLs of pages, and each page URL contains jobs.\n",
    "P1 = \"https://www.linkedin.com/jobs/search/?currentJobId=3420289631&geoId=102787409&keywords=data%20engineer\"\n",
    "url_list_example = [P1]\n",
    "\n",
    "data_P1 = scraper(url_list_example) # 20 seconds"
   ]
  },
  {
   "cell_type": "code",
   "execution_count": 7,
   "id": "205ba1ca",
   "metadata": {},
   "outputs": [
    {
     "name": "stdout",
     "output_type": "stream",
     "text": [
      "25 25 20 25 25\n"
     ]
    }
   ],
   "source": [
    "print(len(data_P1['id']), len(data_P1['title']), len(data_P1['time']), len(data_P1['place']), len(data_P1['company']))"
   ]
  },
  {
   "cell_type": "markdown",
   "id": "1b325e56",
   "metadata": {},
   "source": [
    "+ We got some missing data (Still do not know why :), if anyone find out let me know) "
   ]
  },
  {
   "cell_type": "code",
   "execution_count": 9,
   "id": "78fd4d74",
   "metadata": {},
   "outputs": [
    {
     "data": {
      "text/plain": [
       "25"
      ]
     },
     "execution_count": 9,
     "metadata": {},
     "output_type": "execute_result"
    }
   ],
   "source": [
    "# Now we need to hundle the missing data. let's just fill with None values so we can create the dataframe.\n",
    "# to create a dataframe you must have the same len of all arrays.\n",
    "for i in range(5):\n",
    "    data_P1['time'].append(None)\n",
    "len(data_P1['time'])"
   ]
  },
  {
   "cell_type": "code",
   "execution_count": 10,
   "id": "fbfcbfec",
   "metadata": {},
   "outputs": [
    {
     "name": "stdout",
     "output_type": "stream",
     "text": [
      "25 25 25 25 25\n"
     ]
    }
   ],
   "source": [
    "# Checking\n",
    "print(len(data_P1['id']), len(data_P1['title']), len(data_P1['time']), len(data_P1['place']), len(data_P1['company']))"
   ]
  },
  {
   "cell_type": "code",
   "execution_count": 13,
   "id": "09fb4e4d",
   "metadata": {},
   "outputs": [],
   "source": [
    "# Creating the dataframe\n",
    "df_P1 = pd.DataFrame(data_P1)"
   ]
  },
  {
   "cell_type": "code",
   "execution_count": 12,
   "id": "73506954",
   "metadata": {},
   "outputs": [
    {
     "name": "stdout",
     "output_type": "stream",
     "text": [
      "<class 'pandas.core.frame.DataFrame'>\n",
      "RangeIndex: 25 entries, 0 to 24\n",
      "Data columns (total 5 columns):\n",
      " #   Column   Non-Null Count  Dtype \n",
      "---  ------   --------------  ----- \n",
      " 0   id       25 non-null     object\n",
      " 1   title    25 non-null     object\n",
      " 2   time     20 non-null     object\n",
      " 3   place    25 non-null     object\n",
      " 4   company  25 non-null     object\n",
      "dtypes: object(5)\n",
      "memory usage: 1.1+ KB\n"
     ]
    }
   ],
   "source": [
    "df_P1.info()"
   ]
  },
  {
   "cell_type": "code",
   "execution_count": 14,
   "id": "545aabd9",
   "metadata": {},
   "outputs": [
    {
     "name": "stdout",
     "output_type": "stream",
     "text": [
      "<class 'pandas.core.frame.DataFrame'>\n",
      "Int64Index: 20 entries, 0 to 19\n",
      "Data columns (total 5 columns):\n",
      " #   Column   Non-Null Count  Dtype \n",
      "---  ------   --------------  ----- \n",
      " 0   id       20 non-null     object\n",
      " 1   title    20 non-null     object\n",
      " 2   time     20 non-null     object\n",
      " 3   place    20 non-null     object\n",
      " 4   company  20 non-null     object\n",
      "dtypes: object(5)\n",
      "memory usage: 960.0+ bytes\n"
     ]
    }
   ],
   "source": [
    "# Now let's drop null\n",
    "df_P1.dropna(axis=0, inplace=True)\n",
    "df_P1.info()"
   ]
  },
  {
   "cell_type": "code",
   "execution_count": 16,
   "id": "9cb07f09",
   "metadata": {},
   "outputs": [
    {
     "data": {
      "text/html": [
       "<div>\n",
       "<style scoped>\n",
       "    .dataframe tbody tr th:only-of-type {\n",
       "        vertical-align: middle;\n",
       "    }\n",
       "\n",
       "    .dataframe tbody tr th {\n",
       "        vertical-align: top;\n",
       "    }\n",
       "\n",
       "    .dataframe thead th {\n",
       "        text-align: right;\n",
       "    }\n",
       "</style>\n",
       "<table border=\"1\" class=\"dataframe\">\n",
       "  <thead>\n",
       "    <tr style=\"text-align: right;\">\n",
       "      <th></th>\n",
       "      <th>id</th>\n",
       "      <th>title</th>\n",
       "      <th>time</th>\n",
       "      <th>place</th>\n",
       "      <th>company</th>\n",
       "      <th>jobs</th>\n",
       "    </tr>\n",
       "  </thead>\n",
       "  <tbody>\n",
       "    <tr>\n",
       "      <th>6</th>\n",
       "      <td>JIDFM006</td>\n",
       "      <td>Data DevOps Engineer</td>\n",
       "      <td>قبل  شهر واحد</td>\n",
       "      <td>الدار البيضاء الكبرى الدار البيضاء المغرب</td>\n",
       "      <td>CIH BANK</td>\n",
       "      <td>None</td>\n",
       "    </tr>\n",
       "    <tr>\n",
       "      <th>9</th>\n",
       "      <td>JIDFM009</td>\n",
       "      <td>Développeur et Analyste de données</td>\n",
       "      <td>قبل 2 أسبوع</td>\n",
       "      <td>الدار البيضاء الكبرى Prefecture of Casablanca ...</td>\n",
       "      <td>Orange Maroc</td>\n",
       "      <td>None</td>\n",
       "    </tr>\n",
       "    <tr>\n",
       "      <th>13</th>\n",
       "      <td>JIDFM013</td>\n",
       "      <td>Machine Learning Operations Engineer</td>\n",
       "      <td>قبل  يوم واحد</td>\n",
       "      <td>الرباط-سلا-زمور-زعير الرباط المغرب</td>\n",
       "      <td>Onclusive</td>\n",
       "      <td>None</td>\n",
       "    </tr>\n",
       "    <tr>\n",
       "      <th>17</th>\n",
       "      <td>JIDFM017</td>\n",
       "      <td>Ingénieur Data H/F</td>\n",
       "      <td>قبل  يوم واحد</td>\n",
       "      <td>الدار البيضاء الكبرى الدار البيضاء المغرب</td>\n",
       "      <td>SII SERVICES MAROC</td>\n",
       "      <td>None</td>\n",
       "    </tr>\n",
       "    <tr>\n",
       "      <th>18</th>\n",
       "      <td>JIDFM018</td>\n",
       "      <td>Consultation_ Développeur Big DATA</td>\n",
       "      <td>قبل 3 أسبوع</td>\n",
       "      <td>الدار البيضاء الكبرى المشور الدار البيضاء المغرب</td>\n",
       "      <td>GEC _ Global Experts Consulting</td>\n",
       "      <td>None</td>\n",
       "    </tr>\n",
       "  </tbody>\n",
       "</table>\n",
       "</div>"
      ],
      "text/plain": [
       "          id                                             title           time  \\\n",
       "6   JIDFM006                              Data DevOps Engineer  قبل  شهر واحد   \n",
       "9   JIDFM009  Développeur et Analyste de données                  قبل 2 أسبوع   \n",
       "13  JIDFM013             Machine Learning Operations Engineer   قبل  يوم واحد   \n",
       "17  JIDFM017                                Ingénieur Data H/F  قبل  يوم واحد   \n",
       "18  JIDFM018                Consultation_ Développeur Big DATA    قبل 3 أسبوع   \n",
       "\n",
       "                                                place  \\\n",
       "6           الدار البيضاء الكبرى الدار البيضاء المغرب   \n",
       "9   الدار البيضاء الكبرى Prefecture of Casablanca ...   \n",
       "13                 الرباط-سلا-زمور-زعير الرباط المغرب   \n",
       "17          الدار البيضاء الكبرى الدار البيضاء المغرب   \n",
       "18   الدار البيضاء الكبرى المشور الدار البيضاء المغرب   \n",
       "\n",
       "                            company  jobs  \n",
       "6                          CIH BANK  None  \n",
       "9                      Orange Maroc  None  \n",
       "13                        Onclusive  None  \n",
       "17               SII SERVICES MAROC  None  \n",
       "18  GEC _ Global Experts Consulting  None  "
      ]
     },
     "execution_count": 16,
     "metadata": {},
     "output_type": "execute_result"
    }
   ],
   "source": [
    "# let's get jobs from titles\n",
    "df_P1['jobs'] = None\n",
    "def get_jobs(title):\n",
    "    jobs = ['data engineer', 'data analyst', 'data scientist', 'machine learning engineer', 'data specialist']\n",
    "    r_job = None\n",
    "    for job in jobs:\n",
    "        if title.lower().__contains__(job):\n",
    "            r_job = job\n",
    "    return r_job\n",
    "df_P1['jobs'] = df_P1['title'].apply(get_jobs)\n",
    "\n",
    "# Checking if there is any null values in jobs\n",
    "df_P1[df_P1.jobs.isnull()]"
   ]
  },
  {
   "cell_type": "code",
   "execution_count": 17,
   "id": "13e822a1",
   "metadata": {},
   "outputs": [],
   "source": [
    "from copy import deepcopy\n",
    "# Filling\n",
    "data = deepcopy(df_P1)\n",
    "data[data.place==\"Data DevOps Engineer\"].jobs = 'data engineer'\n",
    "data[data.place==\"Développeur et Analyste de données\"].jobs = 'data analyst'\n",
    "data[data.place==\"Machine Learning Operations Engineer\"].jobs = 'machine learning engineer'"
   ]
  },
  {
   "cell_type": "code",
   "execution_count": 18,
   "id": "45cd2333",
   "metadata": {},
   "outputs": [],
   "source": [
    "# let's remove the last two samples \n",
    "data.dropna(axis=0, inplace=True)"
   ]
  },
  {
   "cell_type": "code",
   "execution_count": 19,
   "id": "9f94ffbd",
   "metadata": {},
   "outputs": [
    {
     "data": {
      "text/html": [
       "<div>\n",
       "<style scoped>\n",
       "    .dataframe tbody tr th:only-of-type {\n",
       "        vertical-align: middle;\n",
       "    }\n",
       "\n",
       "    .dataframe tbody tr th {\n",
       "        vertical-align: top;\n",
       "    }\n",
       "\n",
       "    .dataframe thead th {\n",
       "        text-align: right;\n",
       "    }\n",
       "</style>\n",
       "<table border=\"1\" class=\"dataframe\">\n",
       "  <thead>\n",
       "    <tr style=\"text-align: right;\">\n",
       "      <th></th>\n",
       "      <th>id</th>\n",
       "      <th>title</th>\n",
       "      <th>time</th>\n",
       "      <th>place</th>\n",
       "      <th>company</th>\n",
       "      <th>jobs</th>\n",
       "    </tr>\n",
       "  </thead>\n",
       "  <tbody>\n",
       "    <tr>\n",
       "      <th>0</th>\n",
       "      <td>JIDFM000</td>\n",
       "      <td>Data Engineer</td>\n",
       "      <td>قبل 4 أيام</td>\n",
       "      <td>الدار البيضاء الكبرى الدار البيضاء المغرب</td>\n",
       "      <td>Artefact</td>\n",
       "      <td>data engineer</td>\n",
       "    </tr>\n",
       "    <tr>\n",
       "      <th>1</th>\n",
       "      <td>JIDFM001</td>\n",
       "      <td>Data Engineer Ref. 003526</td>\n",
       "      <td>قبل 2 أيام</td>\n",
       "      <td>الدار البيضاء الكبرى الدار البيضاء المغرب</td>\n",
       "      <td>Novancy One | Recrutement de Talents du Digital</td>\n",
       "      <td>data engineer</td>\n",
       "    </tr>\n",
       "    <tr>\n",
       "      <th>2</th>\n",
       "      <td>JIDFM002</td>\n",
       "      <td>Data Engineer (based in Morocco)</td>\n",
       "      <td>قبل 4 أيام</td>\n",
       "      <td>منطقة كازابلانكا الحضرية</td>\n",
       "      <td>Netcompany-Intrasoft</td>\n",
       "      <td>data engineer</td>\n",
       "    </tr>\n",
       "    <tr>\n",
       "      <th>3</th>\n",
       "      <td>JIDFM003</td>\n",
       "      <td>Data Engineer H/F</td>\n",
       "      <td>قبل  أسبوع واحد</td>\n",
       "      <td>منطقة كازابلانكا الحضرية</td>\n",
       "      <td>Groupe INTM</td>\n",
       "      <td>data engineer</td>\n",
       "    </tr>\n",
       "    <tr>\n",
       "      <th>4</th>\n",
       "      <td>JIDFM004</td>\n",
       "      <td>Data Engineer - GAMMA</td>\n",
       "      <td>قبل  شهر واحد</td>\n",
       "      <td>الدار البيضاء الكبرى الدار البيضاء المغرب</td>\n",
       "      <td>Boston Consulting Group (BCG)</td>\n",
       "      <td>data engineer</td>\n",
       "    </tr>\n",
       "    <tr>\n",
       "      <th>5</th>\n",
       "      <td>JIDFM005</td>\n",
       "      <td>Data Engineer - QuantumBlack, AI by McKinsey</td>\n",
       "      <td>قبل 6 أيام</td>\n",
       "      <td>الدار البيضاء الكبرى الدار البيضاء المغرب</td>\n",
       "      <td>QuantumBlack, AI by McKinsey</td>\n",
       "      <td>data engineer</td>\n",
       "    </tr>\n",
       "    <tr>\n",
       "      <th>7</th>\n",
       "      <td>JIDFM007</td>\n",
       "      <td>Data Analyst (H/F)</td>\n",
       "      <td>قبل 2 أسبوع</td>\n",
       "      <td>الدار البيضاء الكبرى المشور الدار البيضاء المغرب</td>\n",
       "      <td>Deloitte</td>\n",
       "      <td>data analyst</td>\n",
       "    </tr>\n",
       "    <tr>\n",
       "      <th>8</th>\n",
       "      <td>JIDFM008</td>\n",
       "      <td>Senior Data Analyst</td>\n",
       "      <td>قبل 4 أيام</td>\n",
       "      <td>الدار البيضاء الكبرى مقاطعة أنفا المغرب</td>\n",
       "      <td>Infomineo</td>\n",
       "      <td>data analyst</td>\n",
       "    </tr>\n",
       "    <tr>\n",
       "      <th>10</th>\n",
       "      <td>JIDFM010</td>\n",
       "      <td>Lead Data Engineer</td>\n",
       "      <td>قبل  أسبوع واحد</td>\n",
       "      <td>مراكش ـ تانسيفت ـ الحوز ابن جرير المغرب</td>\n",
       "      <td>ALPHA10X</td>\n",
       "      <td>data engineer</td>\n",
       "    </tr>\n",
       "    <tr>\n",
       "      <th>11</th>\n",
       "      <td>JIDFM011</td>\n",
       "      <td>Ingénieur Data engineer Confirmé (H/F) - Casab...</td>\n",
       "      <td>قبل  يوم واحد</td>\n",
       "      <td>الدار البيضاء الكبرى Prefecture of Casablanca ...</td>\n",
       "      <td>Atos</td>\n",
       "      <td>data engineer</td>\n",
       "    </tr>\n",
       "    <tr>\n",
       "      <th>12</th>\n",
       "      <td>JIDFM012</td>\n",
       "      <td>Lead Data Engineer</td>\n",
       "      <td>قبل 2 أسبوع</td>\n",
       "      <td>مراكش ـ تانسيفت ـ الحوز ابن جرير المغرب</td>\n",
       "      <td>ALPHA10X</td>\n",
       "      <td>data engineer</td>\n",
       "    </tr>\n",
       "    <tr>\n",
       "      <th>14</th>\n",
       "      <td>JIDFM014</td>\n",
       "      <td>Data Scientist-(H/F)</td>\n",
       "      <td>قبل 2 أيام</td>\n",
       "      <td>الدار البيضاء الكبرى الدار البيضاء المغرب</td>\n",
       "      <td>Société Générale Maroc</td>\n",
       "      <td>data scientist</td>\n",
       "    </tr>\n",
       "    <tr>\n",
       "      <th>15</th>\n",
       "      <td>JIDFM015</td>\n",
       "      <td>BIG DATA ENGINEER (3-5 years of XP)</td>\n",
       "      <td>قبل 2 أسبوع</td>\n",
       "      <td>الرباط-سلا-زمور-زعير المغرب</td>\n",
       "      <td>GLOBAL DEFENSE SYSTEMS</td>\n",
       "      <td>data engineer</td>\n",
       "    </tr>\n",
       "    <tr>\n",
       "      <th>16</th>\n",
       "      <td>JIDFM016</td>\n",
       "      <td>Data Scientist</td>\n",
       "      <td>قبل 4 أسبوع</td>\n",
       "      <td>منطقة كازابلانكا الحضرية</td>\n",
       "      <td>Evernex</td>\n",
       "      <td>data scientist</td>\n",
       "    </tr>\n",
       "    <tr>\n",
       "      <th>19</th>\n",
       "      <td>JIDFM019</td>\n",
       "      <td>Data Scientist</td>\n",
       "      <td>قبل 2 أسبوع</td>\n",
       "      <td>الدار البيضاء الكبرى Prefecture of Casablanca ...</td>\n",
       "      <td>Société Générale Maroc</td>\n",
       "      <td>data scientist</td>\n",
       "    </tr>\n",
       "  </tbody>\n",
       "</table>\n",
       "</div>"
      ],
      "text/plain": [
       "          id                                              title  \\\n",
       "0   JIDFM000                                      Data Engineer   \n",
       "1   JIDFM001                          Data Engineer Ref. 003526   \n",
       "2   JIDFM002                   Data Engineer (based in Morocco)   \n",
       "3   JIDFM003                                  Data Engineer H/F   \n",
       "4   JIDFM004                              Data Engineer - GAMMA   \n",
       "5   JIDFM005       Data Engineer - QuantumBlack, AI by McKinsey   \n",
       "7   JIDFM007                                 Data Analyst (H/F)   \n",
       "8   JIDFM008                                Senior Data Analyst   \n",
       "10  JIDFM010                                 Lead Data Engineer   \n",
       "11  JIDFM011  Ingénieur Data engineer Confirmé (H/F) - Casab...   \n",
       "12  JIDFM012                                 Lead Data Engineer   \n",
       "14  JIDFM014                               Data Scientist-(H/F)   \n",
       "15  JIDFM015                BIG DATA ENGINEER (3-5 years of XP)   \n",
       "16  JIDFM016                                    Data Scientist    \n",
       "19  JIDFM019                                     Data Scientist   \n",
       "\n",
       "               time                                              place  \\\n",
       "0        قبل 4 أيام          الدار البيضاء الكبرى الدار البيضاء المغرب   \n",
       "1        قبل 2 أيام          الدار البيضاء الكبرى الدار البيضاء المغرب   \n",
       "2        قبل 4 أيام                           منطقة كازابلانكا الحضرية   \n",
       "3   قبل  أسبوع واحد                           منطقة كازابلانكا الحضرية   \n",
       "4     قبل  شهر واحد          الدار البيضاء الكبرى الدار البيضاء المغرب   \n",
       "5        قبل 6 أيام          الدار البيضاء الكبرى الدار البيضاء المغرب   \n",
       "7       قبل 2 أسبوع   الدار البيضاء الكبرى المشور الدار البيضاء المغرب   \n",
       "8        قبل 4 أيام            الدار البيضاء الكبرى مقاطعة أنفا المغرب   \n",
       "10  قبل  أسبوع واحد            مراكش ـ تانسيفت ـ الحوز ابن جرير المغرب   \n",
       "11    قبل  يوم واحد  الدار البيضاء الكبرى Prefecture of Casablanca ...   \n",
       "12      قبل 2 أسبوع            مراكش ـ تانسيفت ـ الحوز ابن جرير المغرب   \n",
       "14       قبل 2 أيام          الدار البيضاء الكبرى الدار البيضاء المغرب   \n",
       "15      قبل 2 أسبوع                        الرباط-سلا-زمور-زعير المغرب   \n",
       "16      قبل 4 أسبوع                           منطقة كازابلانكا الحضرية   \n",
       "19      قبل 2 أسبوع  الدار البيضاء الكبرى Prefecture of Casablanca ...   \n",
       "\n",
       "                                            company            jobs  \n",
       "0                                          Artefact   data engineer  \n",
       "1   Novancy One | Recrutement de Talents du Digital   data engineer  \n",
       "2                              Netcompany-Intrasoft   data engineer  \n",
       "3                                       Groupe INTM   data engineer  \n",
       "4                     Boston Consulting Group (BCG)   data engineer  \n",
       "5                      QuantumBlack, AI by McKinsey   data engineer  \n",
       "7                                          Deloitte    data analyst  \n",
       "8                                         Infomineo    data analyst  \n",
       "10                                         ALPHA10X   data engineer  \n",
       "11                                             Atos   data engineer  \n",
       "12                                         ALPHA10X   data engineer  \n",
       "14                           Société Générale Maroc  data scientist  \n",
       "15                           GLOBAL DEFENSE SYSTEMS   data engineer  \n",
       "16                                          Evernex  data scientist  \n",
       "19                           Société Générale Maroc  data scientist  "
      ]
     },
     "execution_count": 19,
     "metadata": {},
     "output_type": "execute_result"
    }
   ],
   "source": [
    "data"
   ]
  },
  {
   "cell_type": "code",
   "execution_count": 21,
   "id": "554d6092",
   "metadata": {},
   "outputs": [
    {
     "data": {
      "text/plain": [
       "array(['قبل 4 أيام', 'قبل 2 أيام', 'قبل  أسبوع واحد', 'قبل  شهر واحد',\n",
       "       'قبل 6 أيام', 'قبل 2 أسبوع', 'قبل  يوم واحد', 'قبل 4 أسبوع'],\n",
       "      dtype=object)"
      ]
     },
     "execution_count": 21,
     "metadata": {},
     "output_type": "execute_result"
    }
   ],
   "source": [
    "# let's now translate from Arabic to English you can use googletrans but I will do it manually\n",
    "times = data.time.unique()\n",
    "times"
   ]
  },
  {
   "cell_type": "code",
   "execution_count": 22,
   "id": "71722cdd",
   "metadata": {},
   "outputs": [
    {
     "data": {
      "text/plain": [
       "8"
      ]
     },
     "execution_count": 22,
     "metadata": {},
     "output_type": "execute_result"
    }
   ],
   "source": [
    "len(times)"
   ]
  },
  {
   "cell_type": "code",
   "execution_count": 23,
   "id": "cc8784f2",
   "metadata": {},
   "outputs": [
    {
     "data": {
      "text/plain": [
       "8"
      ]
     },
     "execution_count": 23,
     "metadata": {},
     "output_type": "execute_result"
    }
   ],
   "source": [
    "n_times = ['4 days ago',\n",
    "           '2 days ago',\n",
    "           '1 week ago',\n",
    "           '1 month ago',\n",
    "           '6 days ago',\n",
    "           '2 weeks ago',\n",
    "           '1 day ago',\n",
    "           '4 weeks ago'\n",
    "          ]\n",
    "len(n_times)"
   ]
  },
  {
   "cell_type": "code",
   "execution_count": 24,
   "id": "bc9a4327",
   "metadata": {},
   "outputs": [
    {
     "data": {
      "text/plain": [
       "{'قبل 4 أيام': '4 days ago',\n",
       " 'قبل 2 أيام': '2 days ago',\n",
       " 'قبل  أسبوع واحد': '1 week ago',\n",
       " 'قبل  شهر واحد': '1 month ago',\n",
       " 'قبل 6 أيام': '6 days ago',\n",
       " 'قبل 2 أسبوع': '2 weeks ago',\n",
       " 'قبل  يوم واحد': '1 day ago',\n",
       " 'قبل 4 أسبوع': '4 weeks ago'}"
      ]
     },
     "execution_count": 24,
     "metadata": {},
     "output_type": "execute_result"
    }
   ],
   "source": [
    "mapping = {}\n",
    "for i in range(8):\n",
    "    mapping[times[i]] = n_times[i]\n",
    "mapping"
   ]
  },
  {
   "cell_type": "code",
   "execution_count": 25,
   "id": "c12cf611",
   "metadata": {},
   "outputs": [],
   "source": [
    "data['time'] = data['time'].map(mapping)\n",
    "# Done "
   ]
  },
  {
   "cell_type": "code",
   "execution_count": 27,
   "id": "43122628",
   "metadata": {},
   "outputs": [
    {
     "data": {
      "text/plain": [
       "array(['الدار البيضاء الكبرى الدار البيضاء المغرب',\n",
       "       'منطقة كازابلانكا الحضرية',\n",
       "       'الدار البيضاء الكبرى المشور الدار البيضاء المغرب',\n",
       "       'الدار البيضاء الكبرى مقاطعة أنفا المغرب',\n",
       "       'مراكش ـ تانسيفت ـ الحوز ابن جرير المغرب',\n",
       "       'الدار البيضاء الكبرى Prefecture of Casablanca المغرب',\n",
       "       'الرباط-سلا-زمور-زعير المغرب'], dtype=object)"
      ]
     },
     "execution_count": 27,
     "metadata": {},
     "output_type": "execute_result"
    }
   ],
   "source": [
    "# Now, let's do the same to places\n",
    "places = data.place.unique()\n",
    "places"
   ]
  },
  {
   "cell_type": "code",
   "execution_count": 28,
   "id": "815db57b",
   "metadata": {},
   "outputs": [
    {
     "data": {
      "text/plain": [
       "7"
      ]
     },
     "execution_count": 28,
     "metadata": {},
     "output_type": "execute_result"
    }
   ],
   "source": [
    "len(places)"
   ]
  },
  {
   "cell_type": "code",
   "execution_count": 29,
   "id": "57a8da28",
   "metadata": {},
   "outputs": [
    {
     "data": {
      "text/plain": [
       "{'الدار البيضاء الكبرى الدار البيضاء المغرب': 'Casablanca',\n",
       " 'منطقة كازابلانكا الحضرية': 'Casablanca',\n",
       " 'الدار البيضاء الكبرى المشور الدار البيضاء المغرب': 'Casablanca',\n",
       " 'الدار البيضاء الكبرى مقاطعة أنفا المغرب': 'Casablanca',\n",
       " 'الدار البيضاء الكبرى Prefecture of Casablanca المغرب': 'Casablanca',\n",
       " 'الرباط-سلا-زمور-زعير المغرب': 'Rebat',\n",
       " 'مراكش ـ تانسيفت ـ الحوز ابن جرير المغرب': 'Marrakech'}"
      ]
     },
     "execution_count": 29,
     "metadata": {},
     "output_type": "execute_result"
    }
   ],
   "source": [
    "mapping = {}\n",
    "for i in range(7):\n",
    "    if i==0 or i==1 or i==2 or i==3 or i==5:\n",
    "        mapping[places[i]] = 'Casablanca'    \n",
    "mapping[places[-1]] = 'Rebat'\n",
    "mapping[places[4]] = 'Marrakech'\n",
    "mapping"
   ]
  },
  {
   "cell_type": "code",
   "execution_count": 30,
   "id": "4a62763c",
   "metadata": {},
   "outputs": [],
   "source": [
    "data['place'] = data['place'].map(mapping)\n",
    "# Done "
   ]
  },
  {
   "cell_type": "code",
   "execution_count": 31,
   "id": "753fabd9",
   "metadata": {},
   "outputs": [
    {
     "data": {
      "text/html": [
       "<div>\n",
       "<style scoped>\n",
       "    .dataframe tbody tr th:only-of-type {\n",
       "        vertical-align: middle;\n",
       "    }\n",
       "\n",
       "    .dataframe tbody tr th {\n",
       "        vertical-align: top;\n",
       "    }\n",
       "\n",
       "    .dataframe thead th {\n",
       "        text-align: right;\n",
       "    }\n",
       "</style>\n",
       "<table border=\"1\" class=\"dataframe\">\n",
       "  <thead>\n",
       "    <tr style=\"text-align: right;\">\n",
       "      <th></th>\n",
       "      <th>id</th>\n",
       "      <th>title</th>\n",
       "      <th>time</th>\n",
       "      <th>place</th>\n",
       "      <th>company</th>\n",
       "      <th>jobs</th>\n",
       "    </tr>\n",
       "  </thead>\n",
       "  <tbody>\n",
       "    <tr>\n",
       "      <th>0</th>\n",
       "      <td>JIDFM000</td>\n",
       "      <td>Data Engineer</td>\n",
       "      <td>4 days ago</td>\n",
       "      <td>Casablanca</td>\n",
       "      <td>Artefact</td>\n",
       "      <td>data engineer</td>\n",
       "    </tr>\n",
       "    <tr>\n",
       "      <th>1</th>\n",
       "      <td>JIDFM001</td>\n",
       "      <td>Data Engineer Ref. 003526</td>\n",
       "      <td>2 days ago</td>\n",
       "      <td>Casablanca</td>\n",
       "      <td>Novancy One | Recrutement de Talents du Digital</td>\n",
       "      <td>data engineer</td>\n",
       "    </tr>\n",
       "    <tr>\n",
       "      <th>2</th>\n",
       "      <td>JIDFM002</td>\n",
       "      <td>Data Engineer (based in Morocco)</td>\n",
       "      <td>4 days ago</td>\n",
       "      <td>Casablanca</td>\n",
       "      <td>Netcompany-Intrasoft</td>\n",
       "      <td>data engineer</td>\n",
       "    </tr>\n",
       "    <tr>\n",
       "      <th>3</th>\n",
       "      <td>JIDFM003</td>\n",
       "      <td>Data Engineer H/F</td>\n",
       "      <td>1 week ago</td>\n",
       "      <td>Casablanca</td>\n",
       "      <td>Groupe INTM</td>\n",
       "      <td>data engineer</td>\n",
       "    </tr>\n",
       "    <tr>\n",
       "      <th>4</th>\n",
       "      <td>JIDFM004</td>\n",
       "      <td>Data Engineer - GAMMA</td>\n",
       "      <td>1 month ago</td>\n",
       "      <td>Casablanca</td>\n",
       "      <td>Boston Consulting Group (BCG)</td>\n",
       "      <td>data engineer</td>\n",
       "    </tr>\n",
       "    <tr>\n",
       "      <th>5</th>\n",
       "      <td>JIDFM005</td>\n",
       "      <td>Data Engineer - QuantumBlack, AI by McKinsey</td>\n",
       "      <td>6 days ago</td>\n",
       "      <td>Casablanca</td>\n",
       "      <td>QuantumBlack, AI by McKinsey</td>\n",
       "      <td>data engineer</td>\n",
       "    </tr>\n",
       "    <tr>\n",
       "      <th>7</th>\n",
       "      <td>JIDFM007</td>\n",
       "      <td>Data Analyst (H/F)</td>\n",
       "      <td>2 weeks ago</td>\n",
       "      <td>Casablanca</td>\n",
       "      <td>Deloitte</td>\n",
       "      <td>data analyst</td>\n",
       "    </tr>\n",
       "    <tr>\n",
       "      <th>8</th>\n",
       "      <td>JIDFM008</td>\n",
       "      <td>Senior Data Analyst</td>\n",
       "      <td>4 days ago</td>\n",
       "      <td>Casablanca</td>\n",
       "      <td>Infomineo</td>\n",
       "      <td>data analyst</td>\n",
       "    </tr>\n",
       "    <tr>\n",
       "      <th>10</th>\n",
       "      <td>JIDFM010</td>\n",
       "      <td>Lead Data Engineer</td>\n",
       "      <td>1 week ago</td>\n",
       "      <td>Marrakech</td>\n",
       "      <td>ALPHA10X</td>\n",
       "      <td>data engineer</td>\n",
       "    </tr>\n",
       "    <tr>\n",
       "      <th>11</th>\n",
       "      <td>JIDFM011</td>\n",
       "      <td>Ingénieur Data engineer Confirmé (H/F) - Casab...</td>\n",
       "      <td>1 day ago</td>\n",
       "      <td>Casablanca</td>\n",
       "      <td>Atos</td>\n",
       "      <td>data engineer</td>\n",
       "    </tr>\n",
       "    <tr>\n",
       "      <th>12</th>\n",
       "      <td>JIDFM012</td>\n",
       "      <td>Lead Data Engineer</td>\n",
       "      <td>2 weeks ago</td>\n",
       "      <td>Marrakech</td>\n",
       "      <td>ALPHA10X</td>\n",
       "      <td>data engineer</td>\n",
       "    </tr>\n",
       "    <tr>\n",
       "      <th>14</th>\n",
       "      <td>JIDFM014</td>\n",
       "      <td>Data Scientist-(H/F)</td>\n",
       "      <td>2 days ago</td>\n",
       "      <td>Casablanca</td>\n",
       "      <td>Société Générale Maroc</td>\n",
       "      <td>data scientist</td>\n",
       "    </tr>\n",
       "    <tr>\n",
       "      <th>15</th>\n",
       "      <td>JIDFM015</td>\n",
       "      <td>BIG DATA ENGINEER (3-5 years of XP)</td>\n",
       "      <td>2 weeks ago</td>\n",
       "      <td>Rebat</td>\n",
       "      <td>GLOBAL DEFENSE SYSTEMS</td>\n",
       "      <td>data engineer</td>\n",
       "    </tr>\n",
       "    <tr>\n",
       "      <th>16</th>\n",
       "      <td>JIDFM016</td>\n",
       "      <td>Data Scientist</td>\n",
       "      <td>4 weeks ago</td>\n",
       "      <td>Casablanca</td>\n",
       "      <td>Evernex</td>\n",
       "      <td>data scientist</td>\n",
       "    </tr>\n",
       "    <tr>\n",
       "      <th>19</th>\n",
       "      <td>JIDFM019</td>\n",
       "      <td>Data Scientist</td>\n",
       "      <td>2 weeks ago</td>\n",
       "      <td>Casablanca</td>\n",
       "      <td>Société Générale Maroc</td>\n",
       "      <td>data scientist</td>\n",
       "    </tr>\n",
       "  </tbody>\n",
       "</table>\n",
       "</div>"
      ],
      "text/plain": [
       "          id                                              title         time  \\\n",
       "0   JIDFM000                                      Data Engineer   4 days ago   \n",
       "1   JIDFM001                          Data Engineer Ref. 003526   2 days ago   \n",
       "2   JIDFM002                   Data Engineer (based in Morocco)   4 days ago   \n",
       "3   JIDFM003                                  Data Engineer H/F   1 week ago   \n",
       "4   JIDFM004                              Data Engineer - GAMMA  1 month ago   \n",
       "5   JIDFM005       Data Engineer - QuantumBlack, AI by McKinsey   6 days ago   \n",
       "7   JIDFM007                                 Data Analyst (H/F)  2 weeks ago   \n",
       "8   JIDFM008                                Senior Data Analyst   4 days ago   \n",
       "10  JIDFM010                                 Lead Data Engineer   1 week ago   \n",
       "11  JIDFM011  Ingénieur Data engineer Confirmé (H/F) - Casab...    1 day ago   \n",
       "12  JIDFM012                                 Lead Data Engineer  2 weeks ago   \n",
       "14  JIDFM014                               Data Scientist-(H/F)   2 days ago   \n",
       "15  JIDFM015                BIG DATA ENGINEER (3-5 years of XP)  2 weeks ago   \n",
       "16  JIDFM016                                    Data Scientist   4 weeks ago   \n",
       "19  JIDFM019                                     Data Scientist  2 weeks ago   \n",
       "\n",
       "         place                                          company  \\\n",
       "0   Casablanca                                         Artefact   \n",
       "1   Casablanca  Novancy One | Recrutement de Talents du Digital   \n",
       "2   Casablanca                             Netcompany-Intrasoft   \n",
       "3   Casablanca                                      Groupe INTM   \n",
       "4   Casablanca                    Boston Consulting Group (BCG)   \n",
       "5   Casablanca                     QuantumBlack, AI by McKinsey   \n",
       "7   Casablanca                                         Deloitte   \n",
       "8   Casablanca                                        Infomineo   \n",
       "10   Marrakech                                         ALPHA10X   \n",
       "11  Casablanca                                             Atos   \n",
       "12   Marrakech                                         ALPHA10X   \n",
       "14  Casablanca                           Société Générale Maroc   \n",
       "15       Rebat                           GLOBAL DEFENSE SYSTEMS   \n",
       "16  Casablanca                                          Evernex   \n",
       "19  Casablanca                           Société Générale Maroc   \n",
       "\n",
       "              jobs  \n",
       "0    data engineer  \n",
       "1    data engineer  \n",
       "2    data engineer  \n",
       "3    data engineer  \n",
       "4    data engineer  \n",
       "5    data engineer  \n",
       "7     data analyst  \n",
       "8     data analyst  \n",
       "10   data engineer  \n",
       "11   data engineer  \n",
       "12   data engineer  \n",
       "14  data scientist  \n",
       "15   data engineer  \n",
       "16  data scientist  \n",
       "19  data scientist  "
      ]
     },
     "execution_count": 31,
     "metadata": {},
     "output_type": "execute_result"
    }
   ],
   "source": [
    "data"
   ]
  },
  {
   "cell_type": "code",
   "execution_count": 32,
   "id": "c65cf43a",
   "metadata": {},
   "outputs": [],
   "source": [
    "# Now, everything is ready so we just load the data to csv file\n",
    "data.to_csv('scrapping_example.csv', index=False)"
   ]
  },
  {
   "cell_type": "markdown",
   "id": "a509c55f",
   "metadata": {},
   "source": [
    "<h2 style=\"color: green\">Dashboarding</h2>"
   ]
  },
  {
   "cell_type": "markdown",
   "id": "eccf9dd9",
   "metadata": {},
   "source": [
    "+ The final step is to make a dashboard with power bi or Tableau, just use what you are good at. In my case, I'm really not good at any of them :) I just watched a video on youtube here is the link:"
   ]
  },
  {
   "cell_type": "markdown",
   "id": "66585c6e",
   "metadata": {},
   "source": [
    "\n",
    "[PowerBI tutorial](https://www.youtube.com/watch?v=c7LrqSxjJQQ&t=712s&ab_channel=LeilaGharani)"
   ]
  },
  {
   "cell_type": "markdown",
   "id": "119c7479",
   "metadata": {},
   "source": [
    "<hr>\n",
    "<p style=\"text-align: right\">Data Project, Scrapping & Dashboarding | <span style=\"color: green\">Successfuly Completed</span></p>"
   ]
  }
 ],
 "metadata": {
  "celltoolbar": "Raw Cell Format",
  "kernelspec": {
   "display_name": "Python 3 (ipykernel)",
   "language": "python",
   "name": "python3"
  },
  "language_info": {
   "codemirror_mode": {
    "name": "ipython",
    "version": 3
   },
   "file_extension": ".py",
   "mimetype": "text/x-python",
   "name": "python",
   "nbconvert_exporter": "python",
   "pygments_lexer": "ipython3",
   "version": "3.9.7"
  }
 },
 "nbformat": 4,
 "nbformat_minor": 5
}
